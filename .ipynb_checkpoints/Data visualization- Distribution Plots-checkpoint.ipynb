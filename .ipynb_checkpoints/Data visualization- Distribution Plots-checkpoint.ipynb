{
 "cells": [
  {
   "cell_type": "code",
   "execution_count": 2,
   "id": "b9c780ab",
   "metadata": {},
   "outputs": [],
   "source": [
    "#importing the libraries that I will use for this project\n",
    "import pandas as pd\n",
    "import matplotlib.pyplot as plt\n",
    "import numpy as np\n",
    "import seaborn as sns\n"
   ]
  },
  {
   "cell_type": "code",
   "execution_count": null,
   "id": "75206a76",
   "metadata": {},
   "outputs": [],
   "source": [
    "df  = pd.read_csv(\"C:\\\\Users\\\\Gacheru\\\\Documents\\\\Pyscripts DS\\\\Tip-prediction\\\\tips.csv\")\n",
    "#dropping the coloumns I am not interested in\n",
    "\n",
    "mydata = df.drop(['size','Payer Name','CC Number','Payment ID'],axis=1)"
   ]
  },
  {
   "cell_type": "code",
   "execution_count": null,
   "id": "ac52bc79",
   "metadata": {},
   "outputs": [],
   "source": [
    "#reaarranging the data\n",
    "mydata = mydata[['tip','total_bill','sex','smoker','day','price_per_person']]"
   ]
  },
  {
   "cell_type": "code",
   "execution_count": null,
   "id": "1ca2d49e",
   "metadata": {},
   "outputs": [],
   "source": [
    "mydata"
   ]
  },
  {
   "cell_type": "code",
   "execution_count": null,
   "id": "5caf6343",
   "metadata": {},
   "outputs": [],
   "source": [
    "#we can start the vizualization aspect of the data\n",
    "# let us check the correlation of tip and total_bill using a scatter plot\n",
    "#The regplot() function of the Seaborn library is definitely the best way to build a scatterplot in minutes.\n",
    "fig, ax = plt.subplots(figsize=(10, 8))\n",
    "sns.regplot(x=mydata[\"tip\"], y=mydata[\"total_bill\"])\n",
    "\n",
    "#cheking the correlation between the total bill and tips\n",
    "mydata['total_bill'].corr(mydata['tip'])\n",
    "\n",
    "#there is a positive correlation between the total bill and tips, and since it measure both direction and magnitude\n",
    "#we find that there exists a strong correlation between the data\n",
    "# let us look at the covariance of the data - \n",
    "mydata[['total_bill','tip']].cov()\n"
   ]
  },
  {
   "cell_type": "code",
   "execution_count": null,
   "id": "fd2383e2",
   "metadata": {},
   "outputs": [],
   "source": [
    "#covariance of the data is positive and high meaning that the data is moving in the same direction as cov measures direction\n",
    "mydata.total_bill.cov(mydata.tip)"
   ]
  },
  {
   "cell_type": "code",
   "execution_count": null,
   "id": "157c6f70",
   "metadata": {},
   "outputs": [],
   "source": [
    "# Use the 'hue' argument to provide a factor variable - sex\n",
    "\n",
    "sns.lmplot( x=\"tip\", y=\"total_bill\", data=mydata, fit_reg=False, hue='sex', legend=False,markers=[\"1\", \"x\"])\n",
    " \n",
    "# Move the legend to an empty part of the plot\n",
    "plt.legend(loc='lower right')\n",
    "\n",
    "\n",
    "plt.show()"
   ]
  },
  {
   "cell_type": "code",
   "execution_count": null,
   "id": "d1c295ca",
   "metadata": {},
   "outputs": [],
   "source": [
    "#we can look at a distribution chartv for the sexes, smokers, day and time\n",
    "#violin of the total bill and the distribution among sex, days and whether smoker or not\n",
    "#define plotting region (1 row, 2 columns)\n",
    "fig, axes = plt.subplots(1, 3)\n",
    "\n",
    "sns.set(rc = {'figure.figsize':(15,8)})\n",
    "\n",
    "#violin plot \n",
    "sns.violinplot(x=mydata[\"sex\"], y=mydata[\"total_bill\"],ax=axes[0])\n",
    "sns.violinplot(x=mydata[\"smoker\"], y=mydata[\"total_bill\"],ax=axes[1])\n",
    "sns.violinplot(x=mydata[\"day\"], y=mydata[\"total_bill\"],ax=axes[2])"
   ]
  },
  {
   "cell_type": "code",
   "execution_count": null,
   "id": "6dfef882",
   "metadata": {},
   "outputs": [],
   "source": []
  }
 ],
 "metadata": {
  "kernelspec": {
   "display_name": "Python 3 (ipykernel)",
   "language": "python",
   "name": "python3"
  },
  "language_info": {
   "codemirror_mode": {
    "name": "ipython",
    "version": 3
   },
   "file_extension": ".py",
   "mimetype": "text/x-python",
   "name": "python",
   "nbconvert_exporter": "python",
   "pygments_lexer": "ipython3",
   "version": "3.9.12"
  }
 },
 "nbformat": 4,
 "nbformat_minor": 5
}
